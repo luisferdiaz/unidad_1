{
 "cells": [
  {
   "cell_type": "code",
   "execution_count": 1,
   "id": "combined-briefs",
   "metadata": {},
   "outputs": [],
   "source": [
    "import pandas as pd\n",
    "df = pd.read_csv(r'uber_eats_and_rappi.csv')"
   ]
  },
  {
   "cell_type": "code",
   "execution_count": 2,
   "id": "available-external",
   "metadata": {},
   "outputs": [],
   "source": [
    "df['rating'] = pd.to_numeric(df['rating'], errors = 'coerce')"
   ]
  },
  {
   "cell_type": "code",
   "execution_count": 3,
   "id": "executed-fourth",
   "metadata": {},
   "outputs": [],
   "source": [
    "maxRating = df['rating'].max()"
   ]
  },
  {
   "cell_type": "code",
   "execution_count": 4,
   "id": "disabled-blood",
   "metadata": {},
   "outputs": [],
   "source": [
    "better = df.loc[df['rating'] == maxRating]"
   ]
  },
  {
   "cell_type": "code",
   "execution_count": 5,
   "id": "expected-nicholas",
   "metadata": {},
   "outputs": [
    {
     "name": "stdout",
     "output_type": "stream",
     "text": [
      "La pizza mejor calificada en Qro tiene un rating de 5.0 y es: \n",
      "278        Diktatur\n",
      "295    Movies Pizza\n",
      "Name: name, dtype: object\n"
     ]
    }
   ],
   "source": [
    "print(f'La pizza mejor calificada en Qro tiene un rating de {maxRating} y es: ')\n",
    "print(better['name'])"
   ]
  },
  {
   "cell_type": "code",
   "execution_count": 6,
   "id": "informational-secretariat",
   "metadata": {},
   "outputs": [],
   "source": [
    "muestra = df.count()"
   ]
  },
  {
   "cell_type": "code",
   "execution_count": 7,
   "id": "turned-teaching",
   "metadata": {},
   "outputs": [
    {
     "name": "stdout",
     "output_type": "stream",
     "text": [
      "web-scraper-order        412\n",
      "web-scraper-start-url    412\n",
      "name                     412\n",
      "rating                   201\n",
      "dtype: int64\n"
     ]
    }
   ],
   "source": [
    "print(muestra)"
   ]
  },
  {
   "cell_type": "code",
   "execution_count": null,
   "id": "round-continuity",
   "metadata": {},
   "outputs": [],
   "source": []
  }
 ],
 "metadata": {
  "kernelspec": {
   "display_name": "Python 3",
   "language": "python",
   "name": "python3"
  },
  "language_info": {
   "codemirror_mode": {
    "name": "ipython",
    "version": 3
   },
   "file_extension": ".py",
   "mimetype": "text/x-python",
   "name": "python",
   "nbconvert_exporter": "python",
   "pygments_lexer": "ipython3",
   "version": "3.6.9"
  }
 },
 "nbformat": 4,
 "nbformat_minor": 5
}
