{
 "cells": [
  {
   "cell_type": "code",
   "execution_count": 1,
   "id": "combined-briefs",
   "metadata": {},
   "outputs": [],
   "source": [
    "import pandas as pd\n",
    "df = pd.read_csv(r'uber_eats_and_rappi.csv')"
   ]
  },
  {
   "cell_type": "code",
   "execution_count": 8,
   "id": "available-external",
   "metadata": {},
   "outputs": [],
   "source": [
    "df['rating'] = pd.to_numeric(df['rating'], errors = 'coerce')"
   ]
  },
  {
   "cell_type": "code",
   "execution_count": 33,
   "id": "executed-fourth",
   "metadata": {},
   "outputs": [],
   "source": [
    "maxRating = df['rating'].max()"
   ]
  },
  {
   "cell_type": "code",
   "execution_count": 47,
   "id": "disabled-blood",
   "metadata": {},
   "outputs": [
    {
     "name": "stdout",
     "output_type": "stream",
     "text": [
      "La pizza mejor calificada en Qro tiene un rating de 5.0 y es: \n",
      "- Diktatur\n",
      "- Movies Pizza\n"
     ]
    }
   ],
   "source": [
    "print(f'La pizza mejor calificada en Qro tiene un rating de {maxRating} y es: ')\n",
    "for i in df.index:\n",
    "    if df['rating'][i] == maxRating:\n",
    "        print('-',df['name'][i])"
   ]
  },
  {
   "cell_type": "code",
   "execution_count": null,
   "id": "expected-nicholas",
   "metadata": {},
   "outputs": [],
   "source": []
  }
 ],
 "metadata": {
  "kernelspec": {
   "display_name": "Python 3",
   "language": "python",
   "name": "python3"
  },
  "language_info": {
   "codemirror_mode": {
    "name": "ipython",
    "version": 3
   },
   "file_extension": ".py",
   "mimetype": "text/x-python",
   "name": "python",
   "nbconvert_exporter": "python",
   "pygments_lexer": "ipython3",
   "version": "3.6.9"
  }
 },
 "nbformat": 4,
 "nbformat_minor": 5
}
