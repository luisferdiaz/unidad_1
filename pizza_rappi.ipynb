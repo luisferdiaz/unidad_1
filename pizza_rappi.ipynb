{
 "cells": [
  {
   "cell_type": "code",
   "execution_count": 1,
   "id": "quality-geneva",
   "metadata": {},
   "outputs": [],
   "source": [
    "import pandas as pd"
   ]
  },
  {
   "cell_type": "code",
   "execution_count": 2,
   "id": "younger-jaguar",
   "metadata": {},
   "outputs": [],
   "source": [
    "df = pd.read_csv(r'rappi-scraper-pizza.csv')"
   ]
  },
  {
   "cell_type": "code",
   "execution_count": 3,
   "id": "wicked-process",
   "metadata": {},
   "outputs": [
    {
     "name": "stdout",
     "output_type": "stream",
     "text": [
      "                                 name  rating\n",
      "0                         Jaguar Azul     NaN\n",
      "1                            Diktatur     5.0\n",
      "2                            Abbiocco     NaN\n",
      "3                      Sofía Pizzería     NaN\n",
      "4                La Piccola Trattoria     NaN\n",
      "5                         College Bar     NaN\n",
      "6                          Quiz Pizza     NaN\n",
      "7                      Corleone Pizza     NaN\n",
      "8                          La Gabella     NaN\n",
      "9                        Lucio Cucina     NaN\n",
      "10                  La Piccola Italia     NaN\n",
      "11                     La Patrona QRO     4.4\n",
      "12                    Stromboli Pizza     NaN\n",
      "13         Di Vino Italian Restaurant     NaN\n",
      "14                 Raffaelos Pizzería     NaN\n",
      "15                     Pizza N' Wings     NaN\n",
      "16                     Domino's Pizza     NaN\n",
      "17            Pizzeria Ricum Di Vendi     NaN\n",
      "18                      Asadero GranD     NaN\n",
      "19                          Piu Pizza     NaN\n",
      "20                       Brutus Pizza     4.8\n",
      "21                           Fiume 37     NaN\n",
      "22                         Che Chelas     NaN\n",
      "23                            Pizzeta     4.7\n",
      "24                          Cheese Up     NaN\n",
      "25                          Pizza Tec     NaN\n",
      "26                          Dio Pizza     NaN\n",
      "27  Ketomorfosis By Cosecha Propia Mx     NaN\n",
      "28                        Promo Pizza     NaN\n",
      "29                          Ké-Chelas     NaN\n",
      "30                      Santa Fortuna     NaN\n",
      "31                      Pizza Francia     NaN\n",
      "32                          Pizza Pop     NaN\n",
      "33                   Pizzería Ragazzo     NaN\n",
      "34                         Dio Pizza.     NaN\n",
      "35                            Crécola     4.7\n",
      "36                      Güero's Pizza     NaN\n",
      "37                              Bruno     4.5\n",
      "38                       Zapata Pizza     4.5\n",
      "39                          Pizza Hut     4.5\n"
     ]
    }
   ],
   "source": [
    "print(df[['name','rating']])"
   ]
  },
  {
   "cell_type": "code",
   "execution_count": null,
   "id": "manual-diversity",
   "metadata": {},
   "outputs": [],
   "source": []
  }
 ],
 "metadata": {
  "kernelspec": {
   "display_name": "Python 3",
   "language": "python",
   "name": "python3"
  },
  "language_info": {
   "codemirror_mode": {
    "name": "ipython",
    "version": 3
   },
   "file_extension": ".py",
   "mimetype": "text/x-python",
   "name": "python",
   "nbconvert_exporter": "python",
   "pygments_lexer": "ipython3",
   "version": "3.6.9"
  }
 },
 "nbformat": 4,
 "nbformat_minor": 5
}
