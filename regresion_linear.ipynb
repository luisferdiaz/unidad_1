{
 "cells": [
  {
   "cell_type": "code",
   "execution_count": 367,
   "id": "conventional-component",
   "metadata": {},
   "outputs": [],
   "source": [
    "import pandas as pd\n",
    "from sklearn import linear_model\n",
    "from sklearn.model_selection import train_test_split\n",
    "import locale"
   ]
  },
  {
   "cell_type": "code",
   "execution_count": 368,
   "id": "beautiful-girlfriend",
   "metadata": {},
   "outputs": [],
   "source": [
    "dfHouses = pd.read_csv(r'casas-pro.csv')\n",
    "dfDepartments = pd.read_csv(r'departamentos-pro.csv')"
   ]
  },
  {
   "cell_type": "code",
   "execution_count": 369,
   "id": "interior-refrigerator",
   "metadata": {},
   "outputs": [],
   "source": [
    "#Remove MN, $, USD and convert dollar to MX \n",
    "locale.setlocale(locale.LC_ALL, 'en_US.UTF-8')\n",
    "dfHouses['precio'] = dfHouses['precio'].apply(lambda x: (locale.atof(x[3:]) if x[0] == 'M' else (locale.atof(x[1:]) if x[0] == '$' else (locale.atof(x[4:]) * 20.58 if x[0] == 'U'else locale.atof(x)))))\n",
    "\n",
    "dfDepartments['precio'] = dfDepartments['precio'].apply(lambda x: (locale.atof(x[3:]) if x[0] == 'M' else (locale.atof(x[1:]) if x[0] == '$' else (locale.atof(x[4:]) * 20.58 if x[0] == 'U'else locale.atof(x)))))"
   ]
  },
  {
   "cell_type": "code",
   "execution_count": 370,
   "id": "greenhouse-christopher",
   "metadata": {},
   "outputs": [],
   "source": [
    "#Remove M²\n",
    "dfHouses['mets'] = dfHouses['mets'].apply(lambda x: locale.atof(x[:len(x) - 3]) if x[len(x) - 1 ] == '²' else locale.atof(x))\n",
    "dfDepartments['mets'] = dfDepartments['mets'].apply(lambda x: locale.atof(x[:len(x) - 3]) if x[len(x) - 1 ] == '²' else locale.atof(x))"
   ]
  },
  {
   "cell_type": "code",
   "execution_count": 371,
   "id": "excess-monkey",
   "metadata": {},
   "outputs": [],
   "source": [
    "#Get all \"refugio\" elements\n",
    "dfHouses = dfHouses[dfHouses['titulo'].str.contains(\"refugio\", na = False, case = False)]\n",
    "dfHouses.reset_index(drop=True, inplace=True)\n",
    "\n",
    "dfDepartments = dfDepartments[dfDepartments['titulo'].str.contains(\"refugio\", na = False, case = False)]\n",
    "dfDepartments.reset_index(drop=True, inplace=True)"
   ]
  },
  {
   "cell_type": "code",
   "execution_count": 372,
   "id": "characteristic-electronics",
   "metadata": {},
   "outputs": [],
   "source": [
    "#dfHouses.sort_values(by = ['mets'], ascending=False)"
   ]
  },
  {
   "cell_type": "code",
   "execution_count": 373,
   "id": "chemical-opening",
   "metadata": {},
   "outputs": [],
   "source": [
    "dfHouses['mets'] = dfHouses['mets'].replace([2175000.0],2175)"
   ]
  },
  {
   "cell_type": "code",
   "execution_count": 374,
   "id": "variable-somerset",
   "metadata": {},
   "outputs": [],
   "source": [
    "#get meters and prices \n",
    "\n",
    "houseMeters = dfHouses.loc[:,['mets']]\n",
    "housePrices = dfHouses.loc[:,['precio']]\n",
    "\n",
    "departmentMeters = dfDepartments.loc[:,['mets']]\n",
    "departmentPrices = dfDepartments.loc[:,['precio']]\n"
   ]
  },
  {
   "cell_type": "code",
   "execution_count": 375,
   "id": "sapphire-debate",
   "metadata": {},
   "outputs": [],
   "source": [
    "#get training and test frame\n",
    "\n",
    "houseMetersTraining, houseMetersTest, housePricesTraining, housePricesTest = train_test_split(houseMeters, housePrices, test_size = 0.1, random_state = 0)\n",
    "departmentMetersTraining, departmentMetersTest, departmentPricesTraining, departmentPricesTest = train_test_split(departmentMeters, departmentPrices, test_size = 0.1, random_state = 0)\n"
   ]
  },
  {
   "cell_type": "code",
   "execution_count": 376,
   "id": "rural-producer",
   "metadata": {},
   "outputs": [],
   "source": [
    "houseModel = linear_model.LinearRegression()\n",
    "departmentModel = linear_model.LinearRegression()"
   ]
  },
  {
   "cell_type": "code",
   "execution_count": 377,
   "id": "likely-lambda",
   "metadata": {},
   "outputs": [
    {
     "data": {
      "text/plain": [
       "LinearRegression()"
      ]
     },
     "execution_count": 377,
     "metadata": {},
     "output_type": "execute_result"
    }
   ],
   "source": [
    "houseModel.fit(houseMetersTraining,housePricesTraining)\n",
    "departmentModel.fit(departmentMetersTraining, departmentPricesTraining)"
   ]
  },
  {
   "cell_type": "code",
   "execution_count": 378,
   "id": "geographic-savings",
   "metadata": {},
   "outputs": [],
   "source": [
    "#Reset index\n",
    "houseMetersTest.reset_index(drop=True, inplace=True)\n",
    "housePricesTest.reset_index(drop=True, inplace=True)\n",
    "\n",
    "departmentMetersTest.reset_index(drop=True, inplace=True)\n",
    "departmentPricesTest.reset_index(drop=True, inplace=True)\n"
   ]
  },
  {
   "cell_type": "code",
   "execution_count": 379,
   "id": "correct-newsletter",
   "metadata": {},
   "outputs": [
    {
     "name": "stdout",
     "output_type": "stream",
     "text": [
      "213\n",
      "Casas\n",
      "Metros  |  Precio Real  |  Precio predicho\n",
      "--------+---------------+-----------------\n",
      " 102.0  |   2340000.0   |    3005323.585\n",
      " 136.0  |   2750000.0   |    3049293.475\n",
      " 307.0  |   5000000.0   |    3270436.162\n",
      " 134.0  |   2950000.0   |    3046707.011\n",
      " 135.0  |   2950000.0   |    3048000.243\n",
      " 110.0  |   2465000.0   |    3015669.441\n",
      " 131.0  |   2890000.0   |    3042827.315\n",
      "  99.0  |   1850000.0   |    3001443.888\n",
      " 200.0  |   2302300.0   |    3132060.329\n",
      " 120.0  |   2130000.0   |    3028601.762\n"
     ]
    }
   ],
   "source": [
    "print(len(houseMetersTest))\n",
    "print('Casas')\n",
    "print('Metros  |  Precio Real  |  Precio predicho')\n",
    "print('--------+---------------+-----------------')\n",
    "for i in range(10):\n",
    "    print('{:>6}'.format(houseMetersTest.loc[i][0]) + '  |' + '{:>12}'.format(housePricesTest.loc[i][0]) + '   |' + '{:>15.3f}'.format(houseModel.predict(pd.DataFrame([houseMetersTest.loc[i][0]]))[0][0]))"
   ]
  },
  {
   "cell_type": "code",
   "execution_count": 380,
   "id": "directed-jenny",
   "metadata": {},
   "outputs": [
    {
     "name": "stdout",
     "output_type": "stream",
     "text": [
      "6\n",
      "Departamentos\n",
      "Metros  |  Precio Real  |  Precio predicho\n",
      "--------+---------------+-----------------\n",
      " 157.0  |    15900.0    |    16302.880\n",
      " 190.0  |    18000.0    |    17589.109\n",
      "  64.0  |    14000.0    |    12678.052\n",
      " 100.0  |    12900.0    |    14081.211\n",
      " 250.0  |    23000.0    |    19927.707\n",
      " 160.0  |    18000.0    |    16419.810\n"
     ]
    }
   ],
   "source": [
    "print(len(departmentMetersTest))\n",
    "print('Departamentos')\n",
    "print('Metros  |  Precio Real  |  Precio predicho')\n",
    "print('--------+---------------+-----------------')\n",
    "\n",
    "for i in range(len(departmentMetersTest)):\n",
    "    print('{:>6}'.format(departmentMetersTest.loc[i][0]) + '  | ' + '{:>10}'.format(departmentPricesTest.loc[i][0]) + '    |' + '{:>13.3f}'.format(departmentModel.predict(pd.DataFrame([departmentMetersTest.loc[i][0]]))[0][0]))"
   ]
  },
  {
   "cell_type": "code",
   "execution_count": null,
   "id": "color-trout",
   "metadata": {},
   "outputs": [],
   "source": []
  }
 ],
 "metadata": {
  "kernelspec": {
   "display_name": "Python 3",
   "language": "python",
   "name": "python3"
  },
  "language_info": {
   "codemirror_mode": {
    "name": "ipython",
    "version": 3
   },
   "file_extension": ".py",
   "mimetype": "text/x-python",
   "name": "python",
   "nbconvert_exporter": "python",
   "pygments_lexer": "ipython3",
   "version": "3.6.9"
  }
 },
 "nbformat": 4,
 "nbformat_minor": 5
}
