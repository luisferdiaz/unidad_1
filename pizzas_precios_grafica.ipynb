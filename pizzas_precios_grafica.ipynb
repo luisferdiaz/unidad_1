{
 "cells": [
  {
   "cell_type": "code",
   "execution_count": 1,
   "id": "exposed-airfare",
   "metadata": {},
   "outputs": [],
   "source": [
    "import pandas as pd"
   ]
  },
  {
   "cell_type": "code",
   "execution_count": 2,
   "id": "imported-wisconsin",
   "metadata": {},
   "outputs": [],
   "source": [
    "# Load of all .csv\n",
    "df_ubereats_centro = pd.read_csv(r'csv/ubereats-pizza-centro.csv')\n",
    "df_ubereats_alamos = pd.read_csv(r'csv/ubereats-pizza-alamos.csv')\n",
    "df_ubereats_juriquilla = pd.read_csv(r'csv/ubereats-pizza-juriquilla.csv')\n",
    "df_ubereats_milenio = pd.read_csv(r'csv/ubereats-pizza-milenio.csv')\n",
    "df_ubereats_refugio = pd.read_csv(r'csv/ubereats-pizza-refugio.csv')\n",
    "\n",
    "df_ubereats_balvanera = pd.read_csv(r'csv/ubereats-pizza-balvanera.csv')\n",
    "df_ubereats_campanario = pd.read_csv(r'csv/ubereats-pizza-campanario.csv')\n",
    "df_ubereats_cerritocolorado = pd.read_csv(r'csv/ubereats-pizza-cerritocolorado.csv')\n",
    "df_ubereats_cimatario = pd.read_csv(r'csv/ubereats-pizza-cimatario.csv')\n",
    "df_ubereats_el_pueblito = pd.read_csv(r'csv/ubereats-pizza-el-pueblito.csv')\n",
    "\n",
    "df_rappi_centro = pd.read_csv(r'csv/rappi-pizza-centro.csv')\n",
    "df_rappi_alamos = pd.read_csv(r'csv/rappi-pizza-alamos.csv')\n",
    "df_rappi_juriquilla = pd.read_csv(r'csv/rappi-pizza-juriquilla.csv')\n",
    "df_rappi_milenio = pd.read_csv(r'csv/rappi-pizza-milenio.csv')\n",
    "df_rappi_refugio = pd.read_csv(r'csv/rappi-pizza-refugio.csv')\n",
    "\n",
    "df_rappi_balvanera = pd.read_csv(r'csv/rappi-pizza-balvanera.csv')\n",
    "df_rappi_campanario = pd.read_csv(r'csv/rappi-pizza-campanario.csv')\n",
    "df_rappi_cerritocolorado = pd.read_csv(r'csv/rappi-pizza-cerritocolorado.csv')\n",
    "df_rappi_cimatario = pd.read_csv(r'csv/rappi-pizza-cimatario.csv')\n",
    "df_rappi_el_pueblito = pd.read_csv(r'csv/rappi-pizza-el-pueblito.csv')\n",
    "\n",
    "df_centro = pd.concat([df_ubereats_centro, df_rappi_centro], ignore_index = True)\n",
    "df_alamos = pd.concat([df_ubereats_alamos, df_rappi_alamos], ignore_index = True)\n",
    "df_juriquilla = pd.concat([df_ubereats_juriquilla, df_rappi_juriquilla], ignore_index = True)\n",
    "df_milenio = pd.concat([df_ubereats_milenio, df_rappi_milenio], ignore_index = True)\n",
    "df_refugio = pd.concat([df_ubereats_refugio, df_rappi_refugio], ignore_index = True)\n",
    "df_balvanera = pd.concat([df_ubereats_balvanera, df_rappi_balvanera], ignore_index = True)\n",
    "df_campanario = pd.concat([df_ubereats_campanario, df_rappi_campanario], ignore_index = True)\n",
    "df_cerritocolorado = pd.concat([df_ubereats_cerritocolorado, df_rappi_cerritocolorado], ignore_index = True)\n",
    "df_cimatario = pd.concat([df_ubereats_cimatario, df_rappi_cimatario], ignore_index = True)\n",
    "df_el_pueblito = pd.concat([df_ubereats_el_pueblito, df_rappi_el_pueblito], ignore_index = True)"
   ]
  },
  {
   "cell_type": "code",
   "execution_count": 3,
   "id": "green-celtic",
   "metadata": {},
   "outputs": [],
   "source": [
    "# Remove MX$ from price-food\n",
    "df_centro['price-food'] = df_centro['price-food'].apply(lambda x: (float(x[3:] if x[0] == 'M' else x[1:]) if not isinstance(x, int) else float(x)) if not isinstance(x, float) else x)\n",
    "df_alamos['price-food'] = df_alamos['price-food'].apply(lambda x: (float(x[3:] if x[0] == 'M' else x[1:]) if not isinstance(x, int) else float(x)) if not isinstance(x, float) else x)\n",
    "df_juriquilla['price-food'] = df_juriquilla['price-food'].apply(lambda x: (float(x[3:] if x[0] == 'M' else x[1:]) if not isinstance(x, int) else float(x)) if not isinstance(x, float) else x)\n",
    "df_milenio['price-food'] = df_milenio['price-food'].apply(lambda x: (float(x[3:] if x[0] == 'M' else x[1:]) if not isinstance(x, int) else float(x)) if not isinstance(x, float) else x)\n",
    "df_refugio['price-food'] = df_refugio['price-food'].apply(lambda x: (float(x[3:] if x[0] == 'M' else x[1:]) if not isinstance(x, int) else float(x)) if not isinstance(x, float) else x)\n",
    "df_balvanera['price-food'] = df_balvanera['price-food'].apply(lambda x: (float(x[3:] if x[0] == 'M' else x[1:]) if not isinstance(x, int) else float(x)) if not isinstance(x, float) else x)\n",
    "df_campanario['price-food'] = df_campanario['price-food'].apply(lambda x: (float(x[3:] if x[0] == 'M' else x[1:]) if not isinstance(x, int) else float(x)) if not isinstance(x, float) else x)\n",
    "df_cerritocolorado['price-food'] = df_cerritocolorado['price-food'].apply(lambda x: (float(x[3:] if x[0] == 'M' else x[1:]) if not isinstance(x, int) else float(x)) if not isinstance(x, float) else x)\n",
    "df_cimatario['price-food'] = df_cimatario['price-food'].apply(lambda x: (float(x[3:] if x[0] == 'M' else x[1:]) if not isinstance(x, int) else float(x)) if not isinstance(x, float) else x)\n",
    "df_el_pueblito['price-food'] = df_el_pueblito['price-food'].apply(lambda x: (float(x[3:] if x[0] == 'M' else x[1:]) if not isinstance(x, int) else float(x)) if not isinstance(x, float) else x)"
   ]
  },
  {
   "cell_type": "code",
   "execution_count": 5,
   "id": "accurate-judgment",
   "metadata": {},
   "outputs": [],
   "source": [
    "#Loc all 'pizzas'\n",
    "dfPizzas_centro = df_centro[df_centro['name-food'].str.contains(\"pizza\", na=False, case=False)]\n",
    "dfPizzas_centro.reset_index(drop=True, inplace=True)\n",
    "dfPizzas_alamos = df_alamos[df_alamos['name-food'].str.contains(\"pizza\", na=False, case=False)]\n",
    "dfPizzas_alamos.reset_index(drop=True, inplace=True)\n",
    "dfPizzas_juriquilla = df_juriquilla[df_juriquilla['name-food'].str.contains(\"pizza\", na=False, case=False)]\n",
    "dfPizzas_juriquilla.reset_index(drop=True, inplace=True)\n",
    "dfPizzas_milenio = df_milenio[df_milenio['name-food'].str.contains(\"pizza\", na=False, case=False)]\n",
    "dfPizzas_milenio.reset_index(drop=True, inplace=True)\n",
    "dfPizzas_refugio = df_refugio[df_refugio['name-food'].str.contains(\"pizza\", na=False, case=False)]\n",
    "dfPizzas_refugio.reset_index(drop=True, inplace=True)\n",
    "dfPizzas_balvanera = df_balvanera[df_balvanera['name-food'].str.contains(\"pizza\", na=False, case=False)]\n",
    "dfPizzas_balvanera.reset_index(drop=True, inplace=True)\n",
    "dfPizzas_campanario = df_campanario[df_campanario['name-food'].str.contains(\"pizza\", na=False, case=False)]\n",
    "dfPizzas_campanario.reset_index(drop=True, inplace=True)\n",
    "dfPizzas_cerritocolorado = df_cerritocolorado[df_cerritocolorado['name-food'].str.contains(\"pizza\", na=False, case=False)]\n",
    "dfPizzas_cerritocolorado.reset_index(drop=True, inplace=True)\n",
    "dfPizzas_cimatario = df_cimatario[df_cimatario['name-food'].str.contains(\"pizza\", na=False, case=False)]\n",
    "dfPizzas_cimatario.reset_index(drop=True, inplace=True)\n",
    "dfPizzas_el_pueblito = df_el_pueblito[df_el_pueblito['name-food'].str.contains(\"pizza\", na=False, case=False)]\n",
    "dfPizzas_el_pueblito.reset_index(drop=True, inplace=True)"
   ]
  },
  {
   "cell_type": "code",
   "execution_count": 41,
   "id": "threatened-thesaurus",
   "metadata": {},
   "outputs": [],
   "source": [
    "#Medians\n",
    "colonies = ['Centro', 'Alamos', 'Juriquilla', 'Milenio III','Refugio','Balvanera','Campanario','Cerrito Colorado','El Cimatario','El Pueblito']\n",
    "medians = [dfPizzas_centro['price-food'].median(),dfPizzas_alamos['price-food'].median(),dfPizzas_juriquilla['price-food'].median(),\n",
    "           dfPizzas_milenio['price-food'].median(), dfPizzas_refugio['price-food'].median(), dfPizzas_balvanera['price-food'].median(),\n",
    "           dfPizzas_campanario['price-food'].median(), dfPizzas_cerritocolorado['price-food'].median(), dfPizzas_cimatario['price-food'].median(),\n",
    "           dfPizzas_el_pueblito['price-food'].median()\n",
    "          ]\n"
   ]
  },
  {
   "cell_type": "code",
   "execution_count": 42,
   "id": "dominant-certification",
   "metadata": {},
   "outputs": [],
   "source": [
    "import matplotlib.pyplot as plt"
   ]
  },
  {
   "cell_type": "code",
   "execution_count": 43,
   "id": "filled-scanning",
   "metadata": {},
   "outputs": [
    {
     "data": {
      "image/png": "[encoded data removed]",
      "text/plain": [
       "<Figure size 432x288 with 1 Axes>"
      ]
     },
     "metadata": {
      "needs_background": "light"
     },
     "output_type": "display_data"
    }
   ],
   "source": [
    "plt.barh(colonies,medians,color=['royalblue', 'g', 'r', 'c', 'm', 'y','sandybrown', 'hotpink', 'greenyellow' ,'deepskyblue'])\n",
    "plt.title('Precio promedio de pizzas')\n",
    "plt.xlabel('Precio promedio')\n",
    "plt.ylabel('Colonias')\n",
    "plt.show()"
   ]
  },
  {
   "cell_type": "code",
   "execution_count": null,
   "id": "radio-porter",
   "metadata": {},
   "outputs": [],
   "source": []
  }
 ],
 "metadata": {
  "kernelspec": {
   "display_name": "Python 3",
   "language": "python",
   "name": "python3"
  },
  "language_info": {
   "codemirror_mode": {
    "name": "ipython",
    "version": 3
   },
   "file_extension": ".py",
   "mimetype": "text/x-python",
   "name": "python",
   "nbconvert_exporter": "python",
   "pygments_lexer": "ipython3",
   "version": "3.6.9"
  }
 },
 "nbformat": 4,
 "nbformat_minor": 5
}
