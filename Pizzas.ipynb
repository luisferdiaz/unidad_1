{
 "cells": [
  {
   "cell_type": "code",
   "execution_count": 1,
   "id": "improved-century",
   "metadata": {},
   "outputs": [],
   "source": [
    "import pandas as pd\n",
    "df = pd.read_csv(r'dataSetPizzas.csv')"
   ]
  },
  {
   "cell_type": "code",
   "execution_count": 2,
   "id": "permanent-berlin",
   "metadata": {},
   "outputs": [],
   "source": [
    "minAvgPrice = df['priceRangeMin'].mean()"
   ]
  },
  {
   "cell_type": "code",
   "execution_count": 3,
   "id": "effective-philosophy",
   "metadata": {},
   "outputs": [],
   "source": [
    "maxAvgPrice = df['priceRangeMax'].mean()"
   ]
  },
  {
   "cell_type": "code",
   "execution_count": 4,
   "id": "intensive-metabolism",
   "metadata": {},
   "outputs": [],
   "source": [
    "avgTickets = (minAvgPrice + maxAvgPrice) / 2"
   ]
  },
  {
   "cell_type": "code",
   "execution_count": 6,
   "id": "packed-civilization",
   "metadata": {},
   "outputs": [
    {
     "name": "stdout",
     "output_type": "stream",
     "text": [
      "¿Cual es el ticket promedio de una pizzeria en USA? R : 16.20985\n"
     ]
    }
   ],
   "source": [
    "print(f'¿Cual es el ticket promedio de una pizzeria en USA? R : {avgTickets}')"
   ]
  },
  {
   "cell_type": "code",
   "execution_count": null,
   "id": "saved-guinea",
   "metadata": {},
   "outputs": [],
   "source": []
  }
 ],
 "metadata": {
  "kernelspec": {
   "display_name": "Python 3",
   "language": "python",
   "name": "python3"
  },
  "language_info": {
   "codemirror_mode": {
    "name": "ipython",
    "version": 3
   },
   "file_extension": ".py",
   "mimetype": "text/x-python",
   "name": "python",
   "nbconvert_exporter": "python",
   "pygments_lexer": "ipython3",
   "version": "3.6.9"
  }
 },
 "nbformat": 4,
 "nbformat_minor": 5
}
